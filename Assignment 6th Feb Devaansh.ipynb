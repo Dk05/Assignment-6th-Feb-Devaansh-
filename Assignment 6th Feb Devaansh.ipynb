{
 "cells": [
  {
   "cell_type": "code",
   "execution_count": 8,
   "id": "ba81b99b",
   "metadata": {},
   "outputs": [],
   "source": [
    "# ANS 1 :\n",
    "\n",
    "def Listproduct(n):\n",
    "    list2 = []\n",
    "    \n",
    "    def flat_list(List):\n",
    "        for i in List:\n",
    "            if isinstance(i, list):\n",
    "                flat_list(i)\n",
    "            elif isinstance(i, dict):\n",
    "                flat_list(i.keys())\n",
    "                flat_list(i.values())\n",
    "            else:\n",
    "                list2.append(i)\n",
    "    \n",
    "    flat_list(n)\n",
    "    product = 1\n",
    "    for num in list2:\n",
    "        if isinstance(num, (int, float)):\n",
    "            product *= num\n",
    "    return product\n",
    "\n",
    "    list1 = [1,2,3,4, [44,55,66, True], False, (34,56,78,89,34), {1,2,3,3,2,1}, {1:34, \"key2\": [55, 67, 78, 89], 4: (45, 22, 61, 34)}, [56, 'data science'], 'Machine Learning']\n",
    "    result = Listproduct(list1)\n",
    "    print(result)\n"
   ]
  },
  {
   "cell_type": "code",
   "execution_count": null,
   "id": "edb56a98",
   "metadata": {},
   "outputs": [],
   "source": [
    "# ANS 2 :\n",
    "\n",
    "def encryptMsg(msg):\n",
    "    encryptMsg = \"\"\n",
    "    msg = msg.lower()\n",
    "\n",
    "    for char in msg:\n",
    "        if char.isalpha():\n",
    "            encrypted_char = chr(219 - ord(char))\n",
    "            encryptMsg = encryptMsg + encrypted_char\n",
    "        elif char == \" \":\n",
    "            encryptMsg = encryptMsg + \"$\"\n",
    "        else:\n",
    "            encryptMsg += char\n",
    "\n",
    "    return encryptMsg\n",
    "\n",
    "\n",
    "Input = \"I want to become a Data Scientist.\"\n",
    "encrypted_Sentence = encryptMsg (Input)\n",
    "print(\"Encrypted Sentence Is : \\n\\n\", encrypted_Sentence)\n"
   ]
  }
 ],
 "metadata": {
  "kernelspec": {
   "display_name": "Python 3 (ipykernel)",
   "language": "python",
   "name": "python3"
  },
  "language_info": {
   "codemirror_mode": {
    "name": "ipython",
    "version": 3
   },
   "file_extension": ".py",
   "mimetype": "text/x-python",
   "name": "python",
   "nbconvert_exporter": "python",
   "pygments_lexer": "ipython3",
   "version": "3.11.3"
  }
 },
 "nbformat": 4,
 "nbformat_minor": 5
}
